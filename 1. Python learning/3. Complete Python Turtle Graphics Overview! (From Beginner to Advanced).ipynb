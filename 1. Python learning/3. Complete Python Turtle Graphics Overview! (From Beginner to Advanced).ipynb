{
 "cells": [
  {
   "cell_type": "markdown",
   "metadata": {},
   "source": [
    "# Complete Python Turtle Graphics Overview! (From Beginner to Advanced)"
   ]
  },
  {
   "cell_type": "code",
   "execution_count": 6,
   "metadata": {
    "collapsed": true
   },
   "outputs": [],
   "source": [
    "import turtle\n",
    "import math"
   ]
  },
  {
   "cell_type": "code",
   "execution_count": 2,
   "metadata": {
    "collapsed": true
   },
   "outputs": [],
   "source": [
    "Diwakar = turtle.Turtle()\n",
    "# Diwakar.forward(100)\n",
    "# Diwakar.left(45)\n",
    "# Diwakar.forward(100)\n",
    "# Diwakar.right(90)\n",
    "# Diwakar.forward(100)"
   ]
  },
  {
   "cell_type": "markdown",
   "metadata": {},
   "source": [
    "### Making a square"
   ]
  },
  {
   "cell_type": "code",
   "execution_count": 3,
   "metadata": {
    "collapsed": true
   },
   "outputs": [],
   "source": [
    "Diwakar.color(\"blue\")\n",
    "\n",
    "\n",
    "Diwakar.begin_fill()\n",
    "Diwakar.forward(100)\n",
    "Diwakar.left(90)\n",
    "Diwakar.forward(100)\n",
    "Diwakar.left(90)\n",
    "Diwakar.forward(100)\n",
    "Diwakar.left(90)\n",
    "Diwakar.forward(100)\n",
    "Diwakar.end_fill()\n",
    "\n",
    "Diwakar.penup()\n",
    "Diwakar.forward(150)\n",
    "Diwakar.pendown()\n",
    "\n",
    "Diwakar.begin_fill()\n",
    "Diwakar.forward(100)\n",
    "Diwakar.left(90)\n",
    "Diwakar.forward(100)\n",
    "Diwakar.left(90)\n",
    "Diwakar.forward(100)\n",
    "Diwakar.left(90)\n",
    "Diwakar.forward(100)\n",
    "Diwakar.end_fill()\n",
    "\n",
    "\n",
    "turtle.done()"
   ]
  },
  {
   "cell_type": "markdown",
   "metadata": {},
   "source": [
    "### Making a star"
   ]
  },
  {
   "cell_type": "code",
   "execution_count": 9,
   "metadata": {
    "scrolled": true
   },
   "outputs": [],
   "source": [
    "Sid = turtle.Turtle()\n",
    "Sid.color(\"red\",'yellow')\n",
    "Sid.speed(10)\n",
    "\n",
    "Sid.begin_fill()\n",
    "for i in range(100):\n",
    "    Sid.forward(300)\n",
    "    Sid.left(170)\n",
    "    \n",
    "Sid.end_fill()\n",
    "\n",
    "\n",
    "turtle.done()"
   ]
  },
  {
   "cell_type": "markdown",
   "metadata": {},
   "source": [
    "### Making a sin pattern"
   ]
  },
  {
   "cell_type": "code",
   "execution_count": 14,
   "metadata": {},
   "outputs": [],
   "source": [
    "Sid = turtle.Turtle()\n",
    "Sid.color(\"red\",'yellow')\n",
    "Sid.speed(30)\n",
    "\n",
    "\n",
    "for i in range(2000):\n",
    "    Sid.forward(20)\n",
    "    Sid.left(math.sin(i/10)*25)\n",
    "    Sid.left(30)\n",
    "\n",
    "\n",
    "\n",
    "turtle.done()"
   ]
  },
  {
   "cell_type": "markdown",
   "metadata": {},
   "source": [
    "### Making a colarge of stars using recursive function"
   ]
  },
  {
   "cell_type": "code",
   "execution_count": null,
   "metadata": {},
   "outputs": [],
   "source": [
    "Sid = turtle.Turtle()\n",
    "Sid.getscreen().bgcolor(\"#994444\")\n",
    "\n",
    "Sid.penup()\n",
    "Sid.goto((-200,100))\n",
    "Sid.pendown()\n",
    "\n",
    "def star(turtle, size):\n",
    "    if size <=10:\n",
    "        return\n",
    "    else:\n",
    "        turtle.begin_fill()\n",
    "        for i in range(5):\n",
    "            turtle.forward(size)\n",
    "            star(turtle, size/3)\n",
    "            turtle.left(216)\n",
    "        turtle.end_fill()\n",
    "\n",
    "star(Sid,360)\n",
    "\n",
    "turtle.done()\n",
    "\n"
   ]
  },
  {
   "cell_type": "code",
   "execution_count": null,
   "metadata": {
    "collapsed": true
   },
   "outputs": [],
   "source": []
  },
  {
   "cell_type": "code",
   "execution_count": null,
   "metadata": {
    "collapsed": true
   },
   "outputs": [],
   "source": []
  }
 ],
 "metadata": {
  "kernelspec": {
   "display_name": "Python 3",
   "language": "python",
   "name": "python3"
  },
  "language_info": {
   "codemirror_mode": {
    "name": "ipython",
    "version": 3
   },
   "file_extension": ".py",
   "mimetype": "text/x-python",
   "name": "python",
   "nbconvert_exporter": "python",
   "pygments_lexer": "ipython3",
   "version": "3.6.3"
  }
 },
 "nbformat": 4,
 "nbformat_minor": 2
}
