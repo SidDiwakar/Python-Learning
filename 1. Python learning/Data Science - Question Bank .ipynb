{
 "cells": [
  {
   "cell_type": "markdown",
   "metadata": {},
   "source": [
    "# Data Science - Question Bank "
   ]
  },
  {
   "cell_type": "code",
   "execution_count": null,
   "metadata": {
    "collapsed": true
   },
   "outputs": [],
   "source": [
    "1. differences between supervised and unsupervised learning\n",
    "2. How is logistic regression done?\n",
    "3. Explain the steps in making a decision tree.\n",
    "4. How do you build a random forest model?\n",
    "5. How can you avoid the overfitting your model?\n",
    "6. Differentiate between univariate, bivariate, and multivariate analysis.\n",
    "7. What are the feature selection methods used to select the right variables?\n",
    "8. In your choice of language, write a program that prints the numbers ranging from one to 50.\n",
    "9. You are given a data set consisting of variables with more than 30 percent missing values. How will you deal with them?\n",
    "10. For the given points, how will you calculate the Euclidean distance in Python?"
   ]
  },
  {
   "cell_type": "markdown",
   "metadata": {},
   "source": [
    "1. Linear algebra (matrix, vectors) (done)\n",
    "\n",
    "2. Statistic (done)\n",
    "\n",
    "3. Machine learning :\n",
    "    (regression, classification, clustring, Dimensionality reduction, Association)\n",
    "\n",
    "4. deep learning\n",
    "\n",
    "5. NLP"
   ]
  },
  {
   "cell_type": "markdown",
   "metadata": {
    "collapsed": true
   },
   "source": [
    "Important topic to cover : \n",
    "1. EDA - Uni-Variate Bi-Variate, n-Variate\n",
    "2. Encoding technique\n",
    "3. Regularization technique\n",
    "4. Loss functions\n",
    "5. Sampling technique\n",
    "6. Feature Engineering\n",
    "7. Optimization Technique"
   ]
  },
  {
   "cell_type": "markdown",
   "metadata": {},
   "source": [
    "### Neural networks Computer vision, Deep Learning : "
   ]
  },
  {
   "cell_type": "code",
   "execution_count": null,
   "metadata": {
    "collapsed": true
   },
   "outputs": [],
   "source": [
    "1. What is neural net\n",
    "2. Perceptron\n",
    "3. Multi-Layered Perceptron (MLP).\n",
    "4. BackPropagation and Forward Propagation\n",
    "5. Activation function :\n",
    "        (Binary, Linear,  Sigmoid, Tanh, ReLU, Leaky ReLU (LReLU), Parametric ReLU (PReLU)\n",
    "        Exponential Linear Unit (eLU), ReLU-6, Softplus, Softsign, Softmax, Swish)\n",
    "        \n",
    "        (https://towardsdatascience.com/what-is-activation-function-1464a629cdca)\n",
    "        \n",
    "6. Vanishing Gradient problem\n",
    "7. Dropouts layers and regurazition\n",
    "8. Optimizers :\n",
    "        (Gradient Descent, Ada Delta, AdaGradDA, Momentum, Adam)\n",
    "        \n",
    "9. AutoEncoders\n",
    "\n",
    "\n",
    "10. Convolutional Neural Nets (Architecture) :\n",
    "        feature extraction, padding, strides, convolution layer, max-pooling, imagenet-dataset, Data-Augmentation, Alexnet, VGGNet,Residual Network\n",
    "        Inception network, transfer learning, MNIST dataset\n",
    "        \n",
    "        (https://towardsdatascience.com/deep-learning-for-computer-vision-c4e5f191c522)\n",
    "        \n",
    "11. Long Short-term memory (LSTMs) :\n",
    "        RNN, LSTM, GRU, DEEP RNN, BI Directional RNN, ENCODERs DECODERS, image- Segmentation"
   ]
  },
  {
   "cell_type": "markdown",
   "metadata": {},
   "source": [
    "### Foundation of natural language processing and Machine Learning "
   ]
  },
  {
   "cell_type": "code",
   "execution_count": null,
   "metadata": {
    "collapsed": true
   },
   "outputs": [],
   "source": [
    "1. Text to Vector\n",
    "2. Bow\n",
    "3. Text processing :  Stemming, Stop word removal, Tokenization, Lemmatization\n",
    "4. Uni gram , Bi Gram, n-gram\n",
    "5. TF-IDF\n",
    "6. Word2vec\n",
    "7. NLTK is the library used for NLP\n"
   ]
  },
  {
   "cell_type": "markdown",
   "metadata": {},
   "source": [
    "### Performance measurement of models"
   ]
  },
  {
   "cell_type": "code",
   "execution_count": null,
   "metadata": {
    "collapsed": true
   },
   "outputs": [],
   "source": [
    "1. Accruacy\n",
    "2. Confusion matrix, TPR, FPR, FNR , TNR\n",
    "3. Precision recall and F1 score\n",
    "4. AUC and ROC curve\n",
    "5. Log loss\n",
    "6. R-squared Coefficient of determination\n",
    "7. Median absolute deviation \n",
    "8. Distribution of error\n"
   ]
  }
 ],
 "metadata": {
  "kernelspec": {
   "display_name": "Python 3",
   "language": "python",
   "name": "python3"
  },
  "language_info": {
   "codemirror_mode": {
    "name": "ipython",
    "version": 3
   },
   "file_extension": ".py",
   "mimetype": "text/x-python",
   "name": "python",
   "nbconvert_exporter": "python",
   "pygments_lexer": "ipython3",
   "version": "3.6.3"
  }
 },
 "nbformat": 4,
 "nbformat_minor": 2
}
